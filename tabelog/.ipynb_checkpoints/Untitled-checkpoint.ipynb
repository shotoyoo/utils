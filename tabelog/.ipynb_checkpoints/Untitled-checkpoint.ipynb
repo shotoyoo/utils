{
 "cells": [
  {
   "cell_type": "code",
   "execution_count": 1,
   "metadata": {
    "collapsed": true
   },
   "outputs": [],
   "source": [
    "import requests\n",
    "from bs4 import BeautifulSoup\n",
    "import pandas as pd\n",
    "import numpy as np\n",
    "import matplotlib.pyplot as plt"
   ]
  },
  {
   "cell_type": "code",
   "execution_count": 21,
   "metadata": {
    "collapsed": true
   },
   "outputs": [],
   "source": [
    "url = \"https://tabelog.com/tokyo/A1310/A131002/13000621/\"\n",
    "res = requests.get(url)\n",
    "soup = BeautifulSoup(res.text, \"html.parser\")\n",
    "score = float(soup.find_all(\"span\", class_=\"rdheader-rating__score-val-dtl\")[0].string)"
   ]
  },
  {
   "cell_type": "code",
   "execution_count": 21,
   "metadata": {},
   "outputs": [
    {
     "data": {
      "text/plain": [
       "(4733, 53)"
      ]
     },
     "execution_count": 21,
     "metadata": {},
     "output_type": "execute_result"
    }
   ],
   "source": [
    "df = pd.read_csv(\"test2.csv\", encoding=\"cp932\")\n",
    "df.shape"
   ]
  },
  {
   "cell_type": "code",
   "execution_count": 24,
   "metadata": {},
   "outputs": [
    {
     "data": {
      "text/html": [
       "<div>\n",
       "<style scoped>\n",
       "    .dataframe tbody tr th:only-of-type {\n",
       "        vertical-align: middle;\n",
       "    }\n",
       "\n",
       "    .dataframe tbody tr th {\n",
       "        vertical-align: top;\n",
       "    }\n",
       "\n",
       "    .dataframe thead tr th {\n",
       "        text-align: left;\n",
       "    }\n",
       "\n",
       "    .dataframe thead tr:last-of-type th {\n",
       "        text-align: right;\n",
       "    }\n",
       "</style>\n",
       "<table border=\"1\" class=\"dataframe\">\n",
       "  <thead>\n",
       "    <tr>\n",
       "      <th></th>\n",
       "      <th>english</th>\n",
       "      <th colspan=\"2\" halign=\"left\">あり</th>\n",
       "      <th colspan=\"2\" halign=\"left\">なし</th>\n",
       "    </tr>\n",
       "    <tr>\n",
       "      <th></th>\n",
       "      <th>midnight</th>\n",
       "      <th>営業していない</th>\n",
       "      <th>営業している</th>\n",
       "      <th>営業していない</th>\n",
       "      <th>営業している</th>\n",
       "    </tr>\n",
       "    <tr>\n",
       "      <th>horigotatsu</th>\n",
       "      <th>private_room</th>\n",
       "      <th></th>\n",
       "      <th></th>\n",
       "      <th></th>\n",
       "      <th></th>\n",
       "    </tr>\n",
       "  </thead>\n",
       "  <tbody>\n",
       "    <tr>\n",
       "      <th rowspan=\"2\" valign=\"top\">あり</th>\n",
       "      <th>あり</th>\n",
       "      <td>3.101717</td>\n",
       "      <td>3.067770</td>\n",
       "      <td>3.086564</td>\n",
       "      <td>3.085911</td>\n",
       "    </tr>\n",
       "    <tr>\n",
       "      <th>なし</th>\n",
       "      <td>3.179286</td>\n",
       "      <td>3.050652</td>\n",
       "      <td>3.121270</td>\n",
       "      <td>3.062458</td>\n",
       "    </tr>\n",
       "    <tr>\n",
       "      <th rowspan=\"2\" valign=\"top\">なし</th>\n",
       "      <th>あり</th>\n",
       "      <td>3.126290</td>\n",
       "      <td>3.109415</td>\n",
       "      <td>3.135697</td>\n",
       "      <td>3.112876</td>\n",
       "    </tr>\n",
       "    <tr>\n",
       "      <th>なし</th>\n",
       "      <td>3.131417</td>\n",
       "      <td>3.084170</td>\n",
       "      <td>3.155300</td>\n",
       "      <td>3.100210</td>\n",
       "    </tr>\n",
       "  </tbody>\n",
       "</table>\n",
       "</div>"
      ],
      "text/plain": [
       "english                         あり                  なし          \n",
       "midnight                   営業していない    営業している   営業していない    営業している\n",
       "horigotatsu private_room                                        \n",
       "あり          あり            3.101717  3.067770  3.086564  3.085911\n",
       "            なし            3.179286  3.050652  3.121270  3.062458\n",
       "なし          あり            3.126290  3.109415  3.135697  3.112876\n",
       "            なし            3.131417  3.084170  3.155300  3.100210"
      ]
     },
     "execution_count": 24,
     "metadata": {},
     "output_type": "execute_result"
    }
   ],
   "source": [
    "df.pivot_table(index=[\"horigotatsu\", \"private_room\"], columns=[\"english\",\"midnight\"], values=\"score\", aggfunc=np.mean)"
   ]
  },
  {
   "cell_type": "code",
   "execution_count": 36,
   "metadata": {
    "scrolled": false
   },
   "outputs": [],
   "source": [
    "df = pd.read_csv(\"test2.csv\", encoding=\"cp932\")\n",
    "columns = [\"small_area\", \"genre\", \"sub_genre\", \"budget\", \"capacity\",\n",
    "          \"free_drink\", \"free_food\", \"private_room\", \"horigotatsu\", \n",
    "           \"tatami\", \"card\", \"non_smoking\", \"charter\", \"parking\", \n",
    "          \"barrier_free\", \"show\", \"karaoke\", \"band\", \"tv\", \"english\",\n",
    "          \"pet\", \"lunch\", \"midnight\"]\n"
   ]
  },
  {
   "cell_type": "code",
   "execution_count": 37,
   "metadata": {},
   "outputs": [
    {
     "data": {
      "text/plain": [
       "(4733, 48)"
      ]
     },
     "execution_count": 37,
     "metadata": {},
     "output_type": "execute_result"
    }
   ],
   "source": [
    "pd.get_dummies(df[\"middle_area\"]).shape"
   ]
  },
  {
   "cell_type": "code",
   "execution_count": 48,
   "metadata": {},
   "outputs": [
    {
     "data": {
      "text/plain": [
       "array(['禁煙席な', '一部禁煙', '未確認 ', '未確認', '全面禁煙'], dtype=object)"
      ]
     },
     "execution_count": 48,
     "metadata": {},
     "output_type": "execute_result"
    }
   ],
   "source": [
    "df[\"non_smoking\"].str[:4].unique()"
   ]
  },
  {
   "cell_type": "code",
   "execution_count": 54,
   "metadata": {},
   "outputs": [
    {
     "name": "stderr",
     "output_type": "stream",
     "text": [
      "C:\\anaconda\\lib\\site-packages\\ipykernel_launcher.py:3: SettingWithCopyWarning: \n",
      "A value is trying to be set on a copy of a slice from a DataFrame\n",
      "\n",
      "See the caveats in the documentation: http://pandas.pydata.org/pandas-docs/stable/indexing.html#indexing-view-versus-copy\n",
      "  This is separate from the ipykernel package so we can avoid doing imports until\n",
      "C:\\anaconda\\lib\\site-packages\\ipykernel_launcher.py:4: SettingWithCopyWarning: \n",
      "A value is trying to be set on a copy of a slice from a DataFrame\n",
      "\n",
      "See the caveats in the documentation: http://pandas.pydata.org/pandas-docs/stable/indexing.html#indexing-view-versus-copy\n",
      "  after removing the cwd from sys.path.\n"
     ]
    },
    {
     "data": {
      "text/plain": [
       "0       あり\n",
       "1       あり\n",
       "2       あり\n",
       "3       あり\n",
       "4       あり\n",
       "5       あり\n",
       "6       あり\n",
       "7       あり\n",
       "8       あり\n",
       "9       なし\n",
       "10      あり\n",
       "11      あり\n",
       "12      あり\n",
       "13      なし\n",
       "14      なし\n",
       "15      なし\n",
       "16      あり\n",
       "17      あり\n",
       "18      なし\n",
       "19      あり\n",
       "20      あり\n",
       "21      あり\n",
       "22      あり\n",
       "23      なし\n",
       "24      あり\n",
       "25      なし\n",
       "26      あり\n",
       "27      あり\n",
       "28      あり\n",
       "29      なし\n",
       "        ..\n",
       "4703    なし\n",
       "4704    なし\n",
       "4705    あり\n",
       "4706    あり\n",
       "4707    なし\n",
       "4708    あり\n",
       "4709    あり\n",
       "4710    あり\n",
       "4711    なし\n",
       "4712    なし\n",
       "4713    なし\n",
       "4714    なし\n",
       "4715    なし\n",
       "4716    なし\n",
       "4717    なし\n",
       "4718    なし\n",
       "4719    なし\n",
       "4720    あり\n",
       "4721    なし\n",
       "4722    なし\n",
       "4723    なし\n",
       "4724    なし\n",
       "4725    なし\n",
       "4726    あり\n",
       "4727    なし\n",
       "4728    なし\n",
       "4729    なし\n",
       "4730    あり\n",
       "4731    なし\n",
       "4732    なし\n",
       "Name: charter, Length: 4733, dtype: object"
      ]
     },
     "execution_count": 54,
     "metadata": {},
     "output_type": "execute_result"
    }
   ],
   "source": [
    "ka = df[\"charter\"].str.contains(\"貸切可\")\n",
    "huka = df[\"charter\"].str.contains(\"貸切不可\")\n",
    "df[\"charter\"][ka] = \"あり\"\n",
    "df[\"charter\"][huka] = \"なし\"\n",
    "df[\"charter\"]"
   ]
  }
 ],
 "metadata": {
  "kernelspec": {
   "display_name": "Python 3",
   "language": "python",
   "name": "python3"
  },
  "language_info": {
   "codemirror_mode": {
    "name": "ipython",
    "version": 3
   },
   "file_extension": ".py",
   "mimetype": "text/x-python",
   "name": "python",
   "nbconvert_exporter": "python",
   "pygments_lexer": "ipython3",
   "version": "3.6.1"
  }
 },
 "nbformat": 4,
 "nbformat_minor": 2
}
