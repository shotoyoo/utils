{
 "cells": [
  {
   "cell_type": "code",
   "execution_count": 13,
   "metadata": {
    "collapsed": true
   },
   "outputs": [],
   "source": [
    "from pretty_midi import PrettyMIDI, ControlChange\n",
    "midi = PrettyMIDI(\"O Lord.mid\")\n",
    "sounds = [68, 68, 68, 68]\n",
    "values = [92, 98, 102, 110]\n",
    "for inst, sound, value in zip(midi.instruments, sounds, values):\n",
    "    inst.program = sound\n",
    "    inst.control_changes.append(ControlChange(number=7, value=value, time=0.001))\n",
    "midi.write(\"Lord_68.midi\")"
   ]
  },
  {
   "cell_type": "code",
   "execution_count": 25,
   "metadata": {},
   "outputs": [
    {
     "data": {
      "text/plain": [
       "''"
      ]
     },
     "execution_count": 25,
     "metadata": {},
     "output_type": "execute_result"
    }
   ],
   "source": [
    "PrettyMIDI(\"test.mid\").instruments[0].name"
   ]
  },
  {
   "cell_type": "code",
   "execution_count": 6,
   "metadata": {},
   "outputs": [
    {
     "data": {
      "text/plain": [
       "{'_PrettyMIDI__tick_to_time': array([  0.00000000e+00,   7.81250000e-04,   1.56250000e-03, ...,\n",
       "          1.08749219e+02,   1.08750000e+02,   1.08750781e+02]),\n",
       " '_tick_scales': [(0, 0.00078125)],\n",
       " 'instruments': [Instrument(program=0, is_drum=False, name=\"\"),\n",
       "  Instrument(program=0, is_drum=False, name=\"\"),\n",
       "  Instrument(program=0, is_drum=False, name=\"\"),\n",
       "  Instrument(program=0, is_drum=False, name=\"\")],\n",
       " 'key_signature_changes': [],\n",
       " 'lyrics': [],\n",
       " 'resolution': 960,\n",
       " 'time_signature_changes': [TimeSignature(numerator=3, denominator=4, time=0.0),\n",
       "  TimeSignature(numerator=4, denominator=4, time=24.75),\n",
       "  TimeSignature(numerator=3, denominator=4, time=42.75),\n",
       "  TimeSignature(numerator=2, denominator=4, time=47.25),\n",
       "  TimeSignature(numerator=4, denominator=4, time=48.75),\n",
       "  TimeSignature(numerator=3, denominator=4, time=81.75)]}"
      ]
     },
     "execution_count": 6,
     "metadata": {},
     "output_type": "execute_result"
    }
   ],
   "source": [
    "midi.__dict__"
   ]
  },
  {
   "cell_type": "code",
   "execution_count": 24,
   "metadata": {},
   "outputs": [],
   "source": []
  },
  {
   "cell_type": "code",
   "execution_count": 21,
   "metadata": {},
   "outputs": [
    {
     "data": {
      "text/plain": [
       "4"
      ]
     },
     "execution_count": 21,
     "metadata": {},
     "output_type": "execute_result"
    }
   ],
   "source": [
    "midi.instruments.__len__()"
   ]
  }
 ],
 "metadata": {
  "kernelspec": {
   "display_name": "Python 3",
   "language": "python",
   "name": "python3"
  },
  "language_info": {
   "codemirror_mode": {
    "name": "ipython",
    "version": 3
   },
   "file_extension": ".py",
   "mimetype": "text/x-python",
   "name": "python",
   "nbconvert_exporter": "python",
   "pygments_lexer": "ipython3",
   "version": "3.6.1"
  }
 },
 "nbformat": 4,
 "nbformat_minor": 2
}
