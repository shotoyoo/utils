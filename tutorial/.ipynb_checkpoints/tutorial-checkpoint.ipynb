{
 "cells": [
  {
   "cell_type": "markdown",
   "metadata": {},
   "source": [
    "## 内容\n",
    "### foliumライブラリによる地図の表示\n",
    "- 範囲指定\n",
    "- マーカーの配置\n",
    "- マーカー色指定\n",
    "- 保存\n",
    "\n",
    "### xmlデータの読み込み\n",
    "- 緯度経度\n",
    "- お店情報\n",
    "\n",
    "### csvデータの読み込み\n",
    "- pandas.DataFrame\n",
    "- 対象範囲の絞り込み\n",
    "\n",
    "### 地図上にお店データを表示\n",
    "- がんばる\n",
    "\n",
    "## pythonのすべて\n",
    "#### 変数\n",
    "プログラムのコードに現れる「変数x」はそれが何を指していてもすべて同等に扱える\n",
    "（数値、関数、クラス、、、）  \n",
    "変数の主な扱い方は次の通り\n",
    "- x.a : xの持っている属性aを取得\n",
    "- x(b) : xをメソッド(関数)とみなして、引数bを与えて動作させる\n",
    "- x[c] : xを配列とみなして、インデックスcにあたる要素を返す\n",
    "- 上3つの組み合わせ (x.a(b)[c]とか)  \n",
    "これだけで殆どコードは読める（かも）\n",
    "これに当てはまらない書き方は「構文」なので覚えるしかない（数は少ない）\n",
    "\n",
    "#### 構文\n",
    "英語っぽく読めばよい。今回はとりあえず動くものを作ることを目指すので、細かくは扱わない予定。\n",
    "- for a in b: → 変数aをbの要素ひとつひとつに割り当ててなんかする\n",
    "- if a is not b: → aとbが実態として異なるときなんかする\n",
    "\n",
    "#### オブジェクトの種類\n",
    "変数はすべて同等(実質1種類)だが、誰が提供してくれるかで3つに分けられる\n",
    "- 組み込み型 : 構文によってサポートされる。x = 1  l = [1,2,3] など\n",
    "- 標準モジュール : python環境があれば、import XXX することで使えるようになる\n",
    "- サードパーティモジュール : 別途マシンにインストールしておけば import XXX することで使えるようになる"
   ]
  },
  {
   "cell_type": "code",
   "execution_count": 16,
   "metadata": {},
   "outputs": [
    {
     "data": {
      "text/plain": [
       "3"
      ]
     },
     "execution_count": 16,
     "metadata": {},
     "output_type": "execute_result"
    }
   ],
   "source": [
    "# リスト\n",
    "l1 = [1,2,3]\n",
    "l2 = [\"a\", \"b\", \"c\"]\n",
    "# 要素アクセス\n",
    "a = l1[0] + l1[1]\n",
    "a"
   ]
  },
  {
   "cell_type": "code",
   "execution_count": 10,
   "metadata": {},
   "outputs": [
    {
     "data": {
      "text/plain": [
       "[1, 2, 3, 4]"
      ]
     },
     "execution_count": 10,
     "metadata": {},
     "output_type": "execute_result"
    }
   ],
   "source": [
    "# 要素追加\n",
    "l1.append(4)\n",
    "l2.append(\"d\")\n",
    "l1"
   ]
  },
  {
   "cell_type": "code",
   "execution_count": 11,
   "metadata": {},
   "outputs": [
    {
     "data": {
      "text/plain": [
       "{'a': 1, 'b': 2}"
      ]
     },
     "execution_count": 11,
     "metadata": {},
     "output_type": "execute_result"
    }
   ],
   "source": [
    "# 辞書dict\n",
    "d = {}\n",
    "d[\"a\"] = 1\n",
    "d[\"b\"] = 2\n",
    "# d = {\"a\": 1, \"b\": 2} とも書ける\n",
    "d"
   ]
  },
  {
   "cell_type": "code",
   "execution_count": 13,
   "metadata": {},
   "outputs": [
    {
     "name": "stdout",
     "output_type": "stream",
     "text": [
      "[2, 4, 6, 8]\n",
      "{1: 'a', 2: 'b', 3: 'c', 4: 'd'}\n"
     ]
    }
   ],
   "source": [
    "# 内包表記\n",
    "l3 = [item*2 for item in l1]\n",
    "d2 = {k: v for k,v in zip(l1,l2)}\n",
    "print(l3)\n",
    "print(d2)"
   ]
  },
  {
   "cell_type": "code",
   "execution_count": null,
   "metadata": {},
   "outputs": [],
   "source": []
  }
 ],
 "metadata": {
  "kernelspec": {
   "display_name": "Python 3",
   "language": "python",
   "name": "python3"
  },
  "language_info": {
   "codemirror_mode": {
    "name": "ipython",
    "version": 3
   },
   "file_extension": ".py",
   "mimetype": "text/x-python",
   "name": "python",
   "nbconvert_exporter": "python",
   "pygments_lexer": "ipython3",
   "version": "3.6.1"
  }
 },
 "nbformat": 4,
 "nbformat_minor": 2
}
